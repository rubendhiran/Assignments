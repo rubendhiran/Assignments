{
 "cells": [
  {
   "cell_type": "markdown",
   "id": "dc7ab155",
   "metadata": {},
   "source": [
    "# Unigram"
   ]
  },
  {
   "cell_type": "code",
   "execution_count": 1,
   "id": "b0bb2e0b",
   "metadata": {},
   "outputs": [
    {
     "name": "stdout",
     "output_type": "stream",
     "text": [
      "Unigrams:\n",
      "this: 1\n",
      "is: 2\n",
      "a: 1\n",
      "sample: 1\n",
      "text: 1\n",
      "for: 1\n",
      "unigram: 2\n",
      "analysis: 2\n",
      ".: 2\n",
      "useful: 1\n"
     ]
    },
    {
     "name": "stderr",
     "output_type": "stream",
     "text": [
      "[nltk_data] Downloading package punkt to\n",
      "[nltk_data]     C:\\Users\\student\\AppData\\Roaming\\nltk_data...\n",
      "[nltk_data]   Package punkt is already up-to-date!\n"
     ]
    }
   ],
   "source": [
    "import nltk\n",
    "from nltk import FreqDist\n",
    "from nltk.tokenize import word_tokenize\n",
    "\n",
    "# Ensure required NLTK data is downloaded\n",
    "nltk.download('punkt')\n",
    "\n",
    "# Sample text\n",
    "text = \"This is a sample text for unigram analysis. Unigram analysis is useful.\"\n",
    "\n",
    "# Tokenize and convert to lowercase\n",
    "tokens = word_tokenize(text.lower())\n",
    "\n",
    "# Unigrams\n",
    "unigrams = FreqDist(tokens)\n",
    "print(\"Unigrams:\")\n",
    "for word, freq in unigrams.items():\n",
    "    print(f\"{word}: {freq}\")\n"
   ]
  },
  {
   "cell_type": "markdown",
   "id": "b5dbf57b",
   "metadata": {},
   "source": [
    "# Bigram"
   ]
  },
  {
   "cell_type": "code",
   "execution_count": 2,
   "id": "e6c148f2",
   "metadata": {},
   "outputs": [
    {
     "name": "stdout",
     "output_type": "stream",
     "text": [
      "Bigrams:\n",
      "('this', 'is'): 1\n",
      "('is', 'a'): 1\n",
      "('a', 'sample'): 1\n",
      "('sample', 'text'): 1\n",
      "('text', 'for'): 1\n",
      "('for', 'bigram'): 1\n",
      "('bigram', 'analysis'): 2\n",
      "('analysis', '.'): 1\n",
      "('.', 'bigram'): 1\n",
      "('analysis', 'is'): 1\n",
      "('is', 'insightful'): 1\n",
      "('insightful', '.'): 1\n"
     ]
    },
    {
     "name": "stderr",
     "output_type": "stream",
     "text": [
      "[nltk_data] Downloading package punkt to\n",
      "[nltk_data]     C:\\Users\\student\\AppData\\Roaming\\nltk_data...\n",
      "[nltk_data]   Package punkt is already up-to-date!\n"
     ]
    }
   ],
   "source": [
    "import nltk\n",
    "from nltk import bigrams, FreqDist\n",
    "from nltk.tokenize import word_tokenize\n",
    "\n",
    "# Ensure required NLTK data is downloaded\n",
    "nltk.download('punkt')\n",
    "\n",
    "# Sample text\n",
    "text = \"This is a sample text for bigram analysis. Bigram analysis is insightful.\"\n",
    "\n",
    "# Tokenize and convert to lowercase\n",
    "tokens = word_tokenize(text.lower())\n",
    "\n",
    "# Bigrams\n",
    "bi_grams = list(bigrams(tokens))\n",
    "bigram_freq = FreqDist(bi_grams)\n",
    "print(\"Bigrams:\")\n",
    "for bigram, freq in bigram_freq.items():\n",
    "    print(f\"{bigram}: {freq}\")\n"
   ]
  },
  {
   "cell_type": "markdown",
   "id": "a23ab953",
   "metadata": {},
   "source": [
    "# Trigram"
   ]
  },
  {
   "cell_type": "code",
   "execution_count": 3,
   "id": "df012e3a",
   "metadata": {},
   "outputs": [
    {
     "name": "stdout",
     "output_type": "stream",
     "text": [
      "Trigrams:\n",
      "('this', 'is', 'a'): 1\n",
      "('is', 'a', 'sample'): 1\n",
      "('a', 'sample', 'text'): 1\n",
      "('sample', 'text', 'for'): 1\n",
      "('text', 'for', 'trigram'): 1\n",
      "('for', 'trigram', 'analysis'): 1\n",
      "('trigram', 'analysis', '.'): 1\n",
      "('analysis', '.', 'trigram'): 1\n",
      "('.', 'trigram', 'analysis'): 1\n",
      "('trigram', 'analysis', 'provides'): 1\n",
      "('analysis', 'provides', 'context'): 1\n",
      "('provides', 'context', '.'): 1\n"
     ]
    },
    {
     "name": "stderr",
     "output_type": "stream",
     "text": [
      "[nltk_data] Downloading package punkt to\n",
      "[nltk_data]     C:\\Users\\student\\AppData\\Roaming\\nltk_data...\n",
      "[nltk_data]   Package punkt is already up-to-date!\n"
     ]
    }
   ],
   "source": [
    "import nltk\n",
    "from nltk import trigrams, FreqDist\n",
    "from nltk.tokenize import word_tokenize\n",
    "\n",
    "# Ensure required NLTK data is downloaded\n",
    "nltk.download('punkt')\n",
    "\n",
    "# Sample text\n",
    "text = \"This is a sample text for trigram analysis. Trigram analysis provides context.\"\n",
    "\n",
    "# Tokenize and convert to lowercase\n",
    "tokens = word_tokenize(text.lower())\n",
    "\n",
    "# Trigrams\n",
    "tri_grams = list(trigrams(tokens))\n",
    "trigram_freq = FreqDist(tri_grams)\n",
    "print(\"Trigrams:\")\n",
    "for trigram, freq in trigram_freq.items():\n",
    "    print(f\"{trigram}: {freq}\")\n"
   ]
  },
  {
   "cell_type": "markdown",
   "id": "54eca3f4",
   "metadata": {},
   "source": [
    "# Bigram Probabilities"
   ]
  },
  {
   "cell_type": "code",
   "execution_count": 4,
   "id": "f3c69e7f",
   "metadata": {},
   "outputs": [
    {
     "name": "stdout",
     "output_type": "stream",
     "text": [
      "Bigram Probabilities:\n",
      "P(is|this) = 1.0000\n",
      "P(a|is) = 1.0000\n",
      "P(sample|a) = 1.0000\n",
      "P(text|sample) = 1.0000\n",
      "P(for|text) = 1.0000\n",
      "P(bigram|for) = 1.0000\n",
      "P(probabilities|bigram) = 1.0000\n",
      "P(.|probabilities) = 0.5000\n",
      "P(are|probabilities) = 0.5000\n",
      "P(bigram|.) = 1.0000\n",
      "P(useful|are) = 1.0000\n",
      "P(.|useful) = 1.0000\n"
     ]
    },
    {
     "name": "stderr",
     "output_type": "stream",
     "text": [
      "[nltk_data] Downloading package punkt to\n",
      "[nltk_data]     C:\\Users\\student\\AppData\\Roaming\\nltk_data...\n",
      "[nltk_data]   Package punkt is already up-to-date!\n"
     ]
    }
   ],
   "source": [
    "import nltk\n",
    "from nltk import bigrams, ConditionalFreqDist\n",
    "from nltk.tokenize import word_tokenize\n",
    "\n",
    "# Ensure required NLTK data is downloaded\n",
    "nltk.download('punkt')\n",
    "\n",
    "# Sample text\n",
    "text = \"This is a sample text for bigram probabilities. Bigram probabilities are useful.\"\n",
    "\n",
    "# Tokenize and convert to lowercase\n",
    "tokens = word_tokenize(text.lower())\n",
    "\n",
    "# Bigram probabilities\n",
    "bigram_cfd = ConditionalFreqDist(bigrams(tokens))\n",
    "print(\"Bigram Probabilities:\")\n",
    "for word in bigram_cfd:\n",
    "    total_count = bigram_cfd[word].N()\n",
    "    for next_word in bigram_cfd[word]:\n",
    "        probability = bigram_cfd[word][next_word] / total_count\n",
    "        print(f\"P({next_word}|{word}) = {probability:.4f}\")\n"
   ]
  },
  {
   "cell_type": "markdown",
   "id": "04b2ca7d",
   "metadata": {},
   "source": [
    "# Next Word Prediction"
   ]
  },
  {
   "cell_type": "code",
   "execution_count": 5,
   "id": "421a6d4d",
   "metadata": {},
   "outputs": [
    {
     "name": "stdout",
     "output_type": "stream",
     "text": [
      "Bigram Probabilities:\n",
      "P(is|vettri) = 1.0000\n",
      "P(a|is) = 1.0000\n",
      "P(boy|a) = 1.0000\n",
      "P(.|boy) = 1.0000\n"
     ]
    },
    {
     "name": "stderr",
     "output_type": "stream",
     "text": [
      "[nltk_data] Downloading package punkt to\n",
      "[nltk_data]     C:\\Users\\student\\AppData\\Roaming\\nltk_data...\n",
      "[nltk_data]   Package punkt is already up-to-date!\n"
     ]
    }
   ],
   "source": [
    "import nltk\n",
    "from nltk import bigrams, ConditionalFreqDist\n",
    "from nltk.tokenize import word_tokenize\n",
    "\n",
    "# Ensure required NLTK data is downloaded\n",
    "nltk.download('punkt')\n",
    "\n",
    "# Sample text\n",
    "text = \"vettri is a boy.\"\n",
    "\n",
    "# Tokenize and convert to lowercase\n",
    "tokens = word_tokenize(text.lower())\n",
    "\n",
    "# Bigram probabilities\n",
    "bigram_cfd = ConditionalFreqDist(bigrams(tokens))\n",
    "print(\"Bigram Probabilities:\")\n",
    "for word in bigram_cfd:\n",
    "    total_count = bigram_cfd[word].N()\n",
    "    for next_word in bigram_cfd[word]:\n",
    "        probability = bigram_cfd[word][next_word] / total_count\n",
    "        print(f\"P({next_word}|{word}) = {probability:.4f}\")\n"
   ]
  },
  {
   "cell_type": "code",
   "execution_count": null,
   "id": "2562a467",
   "metadata": {},
   "outputs": [],
   "source": []
  }
 ],
 "metadata": {
  "kernelspec": {
   "display_name": "Python 3 (ipykernel)",
   "language": "python",
   "name": "python3"
  },
  "language_info": {
   "codemirror_mode": {
    "name": "ipython",
    "version": 3
   },
   "file_extension": ".py",
   "mimetype": "text/x-python",
   "name": "python",
   "nbconvert_exporter": "python",
   "pygments_lexer": "ipython3",
   "version": "3.9.12"
  }
 },
 "nbformat": 4,
 "nbformat_minor": 5
}
